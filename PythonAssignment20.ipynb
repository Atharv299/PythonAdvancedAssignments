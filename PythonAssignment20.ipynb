{
 "cells": [
  {
   "cell_type": "markdown",
   "id": "05ee62b2",
   "metadata": {},
   "source": [
    "#### Q1\n",
    "Both the `float` and `decimal` types store numerical values in Python.\n",
    "\n",
    "Use `floats` when convenience and speed matter. A float gives you an approximation of the number you declare.\n",
    "\n",
    "Use `decimals` when precision matters. `Decimals` can suffer from their own precision issues, but generally, `decimals` are more precise than `floats`. The performance difference between `float` and `decimal`, with Python 3, is not outlandish, and in my experience, the precision benefits of a `decimal` outweigh the performance benefits of a `float`."
   ]
  },
  {
   "cell_type": "markdown",
   "id": "fd433d14",
   "metadata": {},
   "source": [
    "#### Q2\n",
    "Both values are same but internal representation at storage Is different. Precsion  differs, `Decimal('1.200')` gives internally  `1.200` and  `Decimal('1.2')` gives `1.2`."
   ]
  },
  {
   "cell_type": "markdown",
   "id": "efc3efad",
   "metadata": {},
   "source": [
    "#### Q3 \n",
    "Both values are checked to be equal , they only differ in precision."
   ]
  },
  {
   "cell_type": "markdown",
   "id": "8f6cda09",
   "metadata": {},
   "source": [
    "#### Q4\n",
    "Floating-point value is converted to Decimal format. Decimal can store float value with absolute precision. But when float value is given as Decimal object,it first has to be converted from floating point value which might already have rounding error.\n",
    "\n",
    "Hence it is preferable to start a Decimal object with a string."
   ]
  },
  {
   "cell_type": "markdown",
   "id": "2e42c0a6",
   "metadata": {},
   "source": [
    "#### Q5\n",
    "We can do it with use of `Decimal()`."
   ]
  },
  {
   "cell_type": "markdown",
   "id": "6a9cf124",
   "metadata": {},
   "source": [
    "#### Q6\n",
    "Arithmetic operfations like Adding,subtracting or multiplying a Decimal object by a floating-point value is generates an error.\n",
    "\n",
    "To do these operations, the floating point has to be converted to a Decimal."
   ]
  },
  {
   "cell_type": "markdown",
   "id": "860d14ca",
   "metadata": {},
   "source": [
    "#### Q7\n",
    "Value of `0.5` will be represented as `½`."
   ]
  },
  {
   "cell_type": "markdown",
   "id": "6702505a",
   "metadata": {},
   "source": [
    "#### Q8\n",
    "Both will be reduced to `1/2`"
   ]
  },
  {
   "cell_type": "markdown",
   "id": "1039ed6b",
   "metadata": {},
   "source": [
    "#### Q9\n",
    "Fraction class and integer type(int) are related in form of a container.It contains two ints, one the numerator and the other the denominator"
   ]
  }
 ],
 "metadata": {
  "kernelspec": {
   "display_name": "Python 3",
   "language": "python",
   "name": "python3"
  },
  "language_info": {
   "codemirror_mode": {
    "name": "ipython",
    "version": 3
   },
   "file_extension": ".py",
   "mimetype": "text/x-python",
   "name": "python",
   "nbconvert_exporter": "python",
   "pygments_lexer": "ipython3",
   "version": "3.9.0"
  }
 },
 "nbformat": 4,
 "nbformat_minor": 5
}
