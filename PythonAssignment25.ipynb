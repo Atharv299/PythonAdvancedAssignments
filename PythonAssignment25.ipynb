{
 "cells": [
  {
   "cell_type": "markdown",
   "id": "bb43a46e",
   "metadata": {},
   "source": [
    "#### Q1\n",
    "Numpy Ndarray provides a lot of convenient and optimized methods for performing several mathematical operations on vectors.\n",
    "\n",
    "Pandas Dataframe is an in-memory 2-dimensional tabular representation of data. In simpler words, it can be seen as a spreadsheet having rows and columns.\n",
    "\n",
    "Conversion : `Dataframe=pandas.DataFrame(array)`"
   ]
  },
  {
   "cell_type": "markdown",
   "id": "7f2fbe23",
   "metadata": {},
   "source": [
    "#### Q2\n",
    "\n",
    "When a user enters a stock ticker symbol, potential issues include invalid symbols, delayed/unavailable data, incomplete/inconsistent data, real-time update limitations, user input errors, and lack of historical/detail data. Handle these by validating symbols, informing about delays/unavailability, implementing data integrity checks, managing user expectations, providing error messages, and offering guidance for correct input."
   ]
  },
  {
   "cell_type": "markdown",
   "id": "24146fcb",
   "metadata": {},
   "source": [
    "#### Q3\n",
    "Bar chart, Line Chart are used for plotting. "
   ]
  },
  {
   "cell_type": "markdown",
   "id": "f0fdf95b",
   "metadata": {},
   "source": [
    "#### Q4\n",
    "Legend will help comparison between different stocks, so will be essential on a stock market chart"
   ]
  },
  {
   "cell_type": "markdown",
   "id": "186d0d51",
   "metadata": {},
   "source": [
    "#### Q5\n",
    "We can use start and end parameters for that. In start we write the date from where we are starting and at the end we write the end date. SO within this span we can restric the duration.Also we can use the parameters like periods for how much times we need the duration and we can also use the frequency parameter."
   ]
  },
  {
   "cell_type": "markdown",
   "id": "5805fa40",
   "metadata": {},
   "source": [
    "#### Q6\n",
    "The 180-day moving average is represented as a line on charts and represents the average price over the past 180 days. The moving average can give traders a sense regarding whether the trend is up or down, while also identifying potential support or resistance areas."
   ]
  },
  {
   "cell_type": "markdown",
   "id": "e8d02e4f",
   "metadata": {},
   "source": [
    "#### Q7\n",
    "In Python, indirect importing refers to importing a module indirectly by using a string containing the module's name. It can be useful when you want to import a module dynamically or conditionally based on user input or other runtime factors."
   ]
  },
  {
   "cell_type": "code",
   "execution_count": 3,
   "id": "36bfc5bf",
   "metadata": {},
   "outputs": [],
   "source": [
    "module_name = \"math\"  # The module to import (can be dynamically assigned)\n",
    "import importlib\n",
    "module = importlib.import_module(module_name)"
   ]
  },
  {
   "cell_type": "markdown",
   "id": "7d46900b",
   "metadata": {},
   "source": [
    "In the above code, the importlib module is used to dynamically import the module specified by the module_name variable. The import_module() function from importlib is called, passing the module name as a string.\n",
    "Once the module is imported, you can use its functions, classes, or variables as usual. For example:"
   ]
  },
  {
   "cell_type": "code",
   "execution_count": 4,
   "id": "ef833a2c",
   "metadata": {},
   "outputs": [
    {
     "name": "stdout",
     "output_type": "stream",
     "text": [
      "4.0\n"
     ]
    }
   ],
   "source": [
    "result = module.sqrt(16)  # Calling the sqrt function from the math module\n",
    "print(result)  # Output: 4.0"
   ]
  }
 ],
 "metadata": {
  "kernelspec": {
   "display_name": "Python 3",
   "language": "python",
   "name": "python3"
  },
  "language_info": {
   "codemirror_mode": {
    "name": "ipython",
    "version": 3
   },
   "file_extension": ".py",
   "mimetype": "text/x-python",
   "name": "python",
   "nbconvert_exporter": "python",
   "pygments_lexer": "ipython3",
   "version": "3.9.0"
  }
 },
 "nbformat": 4,
 "nbformat_minor": 5
}
